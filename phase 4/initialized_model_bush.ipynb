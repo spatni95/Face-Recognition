{
 "cells": [
  {
   "cell_type": "code",
   "execution_count": 0,
   "metadata": {
    "colab": {},
    "colab_type": "code",
    "id": "WydSIkfh-xY2"
   },
   "outputs": [],
   "source": [
    "#find . -name '*.jpg' -exec mv {} ../Dataset/ \\;"
   ]
  },
  {
   "cell_type": "code",
   "execution_count": 0,
   "metadata": {
    "colab": {},
    "colab_type": "code",
    "id": "Z2pg5OVa-xY6"
   },
   "outputs": [],
   "source": [
    "import numpy as np\n",
    "import pandas as pd\n",
    "import glob\n",
    "from PIL import Image\n",
    "from tqdm import tqdm\n",
    "from keras.models import load_model\n",
    "import matplotlib.pyplot as plt\n",
    "# import numexpr as ne\n",
    "import keras_metrics"
   ]
  },
  {
   "cell_type": "code",
   "execution_count": 0,
   "metadata": {
    "colab": {},
    "colab_type": "code",
    "id": "ju_DYZL3-xY-"
   },
   "outputs": [],
   "source": [
    "import keras\n",
    "from sklearn.model_selection import train_test_split\n",
    "from keras.models import Sequential\n",
    "from keras.layers import Conv2D,MaxPooling2D, Flatten, Dense, Dropout\n",
    "from keras.activations import sigmoid,relu\n",
    "from keras.optimizers import Adam\n",
    "from sklearn.metrics import classification_report,f1_score, confusion_matrix"
   ]
  },
  {
   "cell_type": "code",
   "execution_count": 0,
   "metadata": {
    "colab": {},
    "colab_type": "code",
    "id": "GlKCTcop-0Bg"
   },
   "outputs": [],
   "source": [
    "from keras import backend as K\n",
    "\n",
    "def f1(y_true, y_pred):\n",
    "    def recall(y_true, y_pred):\n",
    "        \"\"\"Recall metric.\n",
    "\n",
    "        Only computes a batch-wise average of recall.\n",
    "\n",
    "        Computes the recall, a metric for multi-label classification of\n",
    "        how many relevant items are selected.\n",
    "        \"\"\"\n",
    "        true_positives = K.sum(K.round(K.clip(y_true * y_pred, 0, 1)))\n",
    "        possible_positives = K.sum(K.round(K.clip(y_true, 0, 1)))\n",
    "        recall = true_positives / (possible_positives + K.epsilon())\n",
    "        return recall\n",
    "\n",
    "    def precision(y_true, y_pred):\n",
    "        \"\"\"Precision metric.\n",
    "\n",
    "        Only computes a batch-wise average of precision.\n",
    "\n",
    "        Computes the precision, a metric for multi-label classification of\n",
    "        how many selected items are relevant.\n",
    "        \"\"\"\n",
    "        true_positives = K.sum(K.round(K.clip(y_true * y_pred, 0, 1)))\n",
    "        predicted_positives = K.sum(K.round(K.clip(y_pred, 0, 1)))\n",
    "        precision = true_positives / (predicted_positives + K.epsilon())\n",
    "        return precision\n",
    "    precision = precision(y_true, y_pred)\n",
    "    recall = recall(y_true, y_pred)\n",
    "    return 2*((precision*recall)/(precision+recall+K.epsilon()))\n"
   ]
  },
  {
   "cell_type": "code",
   "execution_count": 0,
   "metadata": {
    "colab": {},
    "colab_type": "code",
    "id": "Pi8jFOy6-xZC"
   },
   "outputs": [],
   "source": [
    "#Normalize\n",
    "def normalize(arr):\n",
    "    arr=arr.astype('float32')\n",
    "    if arr.max() > 1.0:\n",
    "        arr/=255.0\n",
    "    return arr\n",
    "#Grayscale\n",
    "gray = lambda rgb : np.dot(rgb[... , :3] , [0.299 , 0.587, 0.114]) "
   ]
  },
  {
   "cell_type": "code",
   "execution_count": 0,
   "metadata": {
    "colab": {
     "base_uri": "https://localhost:8080/",
     "height": 35
    },
    "colab_type": "code",
    "id": "h31v0lWh-xZL",
    "outputId": "e4e6259e-149d-440d-fd36-63c30cb93b63"
   },
   "outputs": [
    {
     "name": "stderr",
     "output_type": "stream",
     "text": [
      "100%|██████████| 2999/2999 [00:09<00:00, 311.48it/s]\n"
     ]
    }
   ],
   "source": [
    "# #Postives\n",
    "positive = glob.glob('./Postive/*.jpg')\n",
    "y = np.array([normalize(gray(np.array(Image.open(fname).resize((64,64), Image.ANTIALIAS)))) for fname in tqdm(positive)])\n",
    "finalp=[]\n",
    "for i in range(0,len(y)):\n",
    "    finalp.append(y[i].flatten())\n",
    "del y\n",
    "positive_df=pd.DataFrame({'X':finalp,'y':1})"
   ]
  },
  {
   "cell_type": "code",
   "execution_count": 0,
   "metadata": {
    "colab": {
     "base_uri": "https://localhost:8080/",
     "height": 35
    },
    "colab_type": "code",
    "id": "EmbwKyiP-xZh",
    "outputId": "51e5c8ca-a388-4aa4-9e14-0c0e6e9617ae"
   },
   "outputs": [
    {
     "name": "stderr",
     "output_type": "stream",
     "text": [
      "100%|██████████| 2776/2776 [00:37<00:00, 58.54it/s]\n"
     ]
    }
   ],
   "source": [
    "# #Negatives\n",
    "negative = glob.glob('./Negative/*.jpg')\n",
    "n = np.array([normalize(gray(np.array(Image.open(fname).resize((64,64), Image.ANTIALIAS)))) for fname in tqdm(negative[:])])\n",
    "final=[]\n",
    "for i in range(0,len(n)):\n",
    "    final.append(n[i].flatten())\n",
    "negative_df=pd.DataFrame({'X':final,'y':0})"
   ]
  },
  {
   "cell_type": "code",
   "execution_count": 0,
   "metadata": {
    "colab": {},
    "colab_type": "code",
    "id": "zK6PkqJM-xZP"
   },
   "outputs": [],
   "source": [
    "# negative_df = pd.read_csv('negatives.csv')\n",
    "final_dataset=pd.concat([positive_df,negative_df])\n",
    "final_dataset=final_dataset.sample(frac=1)\n",
    "final_dataset.reset_index(inplace=True)\n",
    "final_dataset.drop('index',inplace=True,axis=1)"
   ]
  },
  {
   "cell_type": "code",
   "execution_count": 0,
   "metadata": {
    "colab": {
     "base_uri": "https://localhost:8080/",
     "height": 198
    },
    "colab_type": "code",
    "id": "qAtvU19v-xZa",
    "outputId": "a892eda3-7b14-4f8f-d664-889c0e602c38"
   },
   "outputs": [
    {
     "data": {
      "text/html": [
       "<div>\n",
       "<style scoped>\n",
       "    .dataframe tbody tr th:only-of-type {\n",
       "        vertical-align: middle;\n",
       "    }\n",
       "\n",
       "    .dataframe tbody tr th {\n",
       "        vertical-align: top;\n",
       "    }\n",
       "\n",
       "    .dataframe thead th {\n",
       "        text-align: right;\n",
       "    }\n",
       "</style>\n",
       "<table border=\"1\" class=\"dataframe\">\n",
       "  <thead>\n",
       "    <tr style=\"text-align: right;\">\n",
       "      <th></th>\n",
       "      <th>X</th>\n",
       "      <th>y</th>\n",
       "    </tr>\n",
       "  </thead>\n",
       "  <tbody>\n",
       "    <tr>\n",
       "      <th>0</th>\n",
       "      <td>[0.0, 0.0, 0.0, 0.0, 0.0, 0.0, 0.0, 0.0, 0.0, ...</td>\n",
       "      <td>1</td>\n",
       "    </tr>\n",
       "    <tr>\n",
       "      <th>1</th>\n",
       "      <td>[0.062231373, 0.06615294, 0.062231373, 0.06223...</td>\n",
       "      <td>1</td>\n",
       "    </tr>\n",
       "    <tr>\n",
       "      <th>2</th>\n",
       "      <td>[0.69899607, 0.7211843, 0.71726274, 0.71770984...</td>\n",
       "      <td>1</td>\n",
       "    </tr>\n",
       "    <tr>\n",
       "      <th>3</th>\n",
       "      <td>[0.0, 0.0, 0.0, 0.0, 0.0, 0.0, 0.0, 0.0, 0.0, ...</td>\n",
       "      <td>1</td>\n",
       "    </tr>\n",
       "    <tr>\n",
       "      <th>4</th>\n",
       "      <td>[0.1767098, 0.20848627, 0.23225097, 0.2115804,...</td>\n",
       "      <td>1</td>\n",
       "    </tr>\n",
       "  </tbody>\n",
       "</table>\n",
       "</div>"
      ],
      "text/plain": [
       "                                                   X  y\n",
       "0  [0.0, 0.0, 0.0, 0.0, 0.0, 0.0, 0.0, 0.0, 0.0, ...  1\n",
       "1  [0.062231373, 0.06615294, 0.062231373, 0.06223...  1\n",
       "2  [0.69899607, 0.7211843, 0.71726274, 0.71770984...  1\n",
       "3  [0.0, 0.0, 0.0, 0.0, 0.0, 0.0, 0.0, 0.0, 0.0, ...  1\n",
       "4  [0.1767098, 0.20848627, 0.23225097, 0.2115804,...  1"
      ]
     },
     "execution_count": 9,
     "metadata": {
      "tags": []
     },
     "output_type": "execute_result"
    }
   ],
   "source": [
    "final_dataset.head()"
   ]
  },
  {
   "cell_type": "code",
   "execution_count": 0,
   "metadata": {
    "colab": {},
    "colab_type": "code",
    "id": "qEcasMIx-xZl"
   },
   "outputs": [],
   "source": [
    "another=[]\n",
    "for i in range(len(final_dataset)):\n",
    "    another.append(final_dataset.X[i].reshape(64,64,1))"
   ]
  },
  {
   "cell_type": "markdown",
   "metadata": {
    "colab_type": "text",
    "id": "avDNQNdm935A"
   },
   "source": [
    "#**Binary Face Classifier**"
   ]
  },
  {
   "cell_type": "code",
   "execution_count": 0,
   "metadata": {
    "colab": {
     "base_uri": "https://localhost:8080/",
     "height": 235
    },
    "colab_type": "code",
    "id": "qJHChGLp-xZ8",
    "outputId": "43d8ac3f-be57-46bd-8fae-b9f2e9c8ee0f"
   },
   "outputs": [
    {
     "name": "stdout",
     "output_type": "stream",
     "text": [
      "Train on 3850 samples, validate on 1925 samples\n",
      "Epoch 1/5\n",
      "3850/3850 [==============================] - 2s 531us/step - loss: 0.3996 - acc: 0.8169 - val_loss: 0.2096 - val_acc: 0.9314\n",
      "Epoch 2/5\n",
      "3850/3850 [==============================] - 2s 403us/step - loss: 0.1459 - acc: 0.9540 - val_loss: 0.0989 - val_acc: 0.9735\n",
      "Epoch 3/5\n",
      "3850/3850 [==============================] - 2s 410us/step - loss: 0.0867 - acc: 0.9766 - val_loss: 0.0757 - val_acc: 0.9813\n",
      "Epoch 4/5\n",
      "3850/3850 [==============================] - 2s 418us/step - loss: 0.0532 - acc: 0.9888 - val_loss: 0.0554 - val_acc: 0.9844\n",
      "Epoch 5/5\n",
      "3850/3850 [==============================] - 2s 423us/step - loss: 0.0398 - acc: 0.9917 - val_loss: 0.0713 - val_acc: 0.9740\n"
     ]
    },
    {
     "data": {
      "text/plain": [
       "0.9747474747474748"
      ]
     },
     "execution_count": 21,
     "metadata": {
      "tags": []
     },
     "output_type": "execute_result"
    }
   ],
   "source": [
    "X=np.array(another)\n",
    "y=final_dataset.y.tolist()\n",
    "X_train, X_test, y_train, y_test = train_test_split(X, y,shuffle=True, test_size=1/3, random_state=8613)\n",
    "del model\n",
    "model=Sequential()\n",
    "model.add(Conv2D(32, kernel_size=(3,3),input_shape=(64,64,1),activation='relu'))\n",
    "model.add(MaxPooling2D(strides=(2,2)))\n",
    "model.add(Flatten())\n",
    "model.add(Dense(1,activation='sigmoid'))\n",
    "\n",
    "model.compile(optimizer='adadelta',loss='binary_crossentropy', metrics=['accuracy'])\n",
    "model.fit(X_train, y_train, validation_data=(X_test, y_test), epochs=5)\n",
    "pred_train=np.round(model.predict(X_train))\n",
    "pred_test=np.round(model.predict(X_test))\n",
    "f1_score(y_test,pred_test)"
   ]
  },
  {
   "cell_type": "code",
   "execution_count": 0,
   "metadata": {
    "colab": {},
    "colab_type": "code",
    "id": "RhURCfcm-xaE"
   },
   "outputs": [],
   "source": [
    "# model.save('initialized_model_g.model')"
   ]
  },
  {
   "cell_type": "code",
   "execution_count": 0,
   "metadata": {
    "colab": {
     "base_uri": "https://localhost:8080/",
     "height": 290
    },
    "colab_type": "code",
    "id": "IzB6SRAa37Xu",
    "outputId": "b66b5c4d-26b9-49bb-bff4-d17bc40b175f"
   },
   "outputs": [
    {
     "name": "stdout",
     "output_type": "stream",
     "text": [
      "_________________________________________________________________\n",
      "Layer (type)                 Output Shape              Param #   \n",
      "=================================================================\n",
      "conv2d_6 (Conv2D)            (None, 62, 62, 32)        320       \n",
      "_________________________________________________________________\n",
      "max_pooling2d_6 (MaxPooling2 (None, 31, 31, 32)        0         \n",
      "_________________________________________________________________\n",
      "flatten_6 (Flatten)          (None, 30752)             0         \n",
      "_________________________________________________________________\n",
      "dense_6 (Dense)              (None, 1)                 30753     \n",
      "=================================================================\n",
      "Total params: 31,073\n",
      "Trainable params: 31,073\n",
      "Non-trainable params: 0\n",
      "_________________________________________________________________\n"
     ]
    }
   ],
   "source": [
    "model.summary()"
   ]
  },
  {
   "cell_type": "markdown",
   "metadata": {
    "colab_type": "text",
    "id": "tkftjSZ39-F9"
   },
   "source": [
    "# **Transfer Learning**"
   ]
  },
  {
   "cell_type": "code",
   "execution_count": 0,
   "metadata": {
    "colab": {
     "base_uri": "https://localhost:8080/",
     "height": 799
    },
    "colab_type": "code",
    "id": "tPl1LfqU-xaT",
    "outputId": "2cf47408-a5bf-415e-82cf-1130039c515f"
   },
   "outputs": [
    {
     "name": "stdout",
     "output_type": "stream",
     "text": [
      "Train on 8822 samples, validate on 4411 samples\n",
      "Epoch 1/20\n",
      "8822/8822 [==============================] - 4s 424us/step - loss: 0.2486 - acc: 0.9421 - val_loss: 0.1737 - val_acc: 0.9594\n",
      "Epoch 2/20\n",
      "8822/8822 [==============================] - 4s 444us/step - loss: 0.1519 - acc: 0.9569 - val_loss: 0.1173 - val_acc: 0.9633\n",
      "Epoch 3/20\n",
      "8822/8822 [==============================] - 4s 427us/step - loss: 0.1211 - acc: 0.9624 - val_loss: 0.0969 - val_acc: 0.9667\n",
      "Epoch 4/20\n",
      "8822/8822 [==============================] - 4s 433us/step - loss: 0.0938 - acc: 0.9704 - val_loss: 0.0839 - val_acc: 0.9732\n",
      "Epoch 5/20\n",
      "8822/8822 [==============================] - 4s 425us/step - loss: 0.0798 - acc: 0.9722 - val_loss: 0.0808 - val_acc: 0.9712\n",
      "Epoch 6/20\n",
      "8822/8822 [==============================] - 4s 419us/step - loss: 0.0652 - acc: 0.9779 - val_loss: 0.0719 - val_acc: 0.9778\n",
      "Epoch 7/20\n",
      "8822/8822 [==============================] - 4s 432us/step - loss: 0.0563 - acc: 0.9814 - val_loss: 0.0795 - val_acc: 0.9723\n",
      "Epoch 8/20\n",
      "8822/8822 [==============================] - 4s 431us/step - loss: 0.0471 - acc: 0.9848 - val_loss: 0.0644 - val_acc: 0.9789\n",
      "Epoch 9/20\n",
      "8822/8822 [==============================] - 4s 429us/step - loss: 0.0410 - acc: 0.9884 - val_loss: 0.0652 - val_acc: 0.9796\n",
      "Epoch 10/20\n",
      "8822/8822 [==============================] - 4s 438us/step - loss: 0.0368 - acc: 0.9896 - val_loss: 0.0615 - val_acc: 0.9796\n",
      "Epoch 11/20\n",
      "8822/8822 [==============================] - 4s 434us/step - loss: 0.0309 - acc: 0.9912 - val_loss: 0.0620 - val_acc: 0.9805\n",
      "Epoch 12/20\n",
      "8822/8822 [==============================] - 4s 417us/step - loss: 0.0275 - acc: 0.9931 - val_loss: 0.0704 - val_acc: 0.9766\n",
      "Epoch 13/20\n",
      "8822/8822 [==============================] - 4s 416us/step - loss: 0.0241 - acc: 0.9938 - val_loss: 0.0569 - val_acc: 0.9825\n",
      "Epoch 14/20\n",
      "8822/8822 [==============================] - 4s 421us/step - loss: 0.0200 - acc: 0.9955 - val_loss: 0.0581 - val_acc: 0.9819\n",
      "Epoch 15/20\n",
      "8822/8822 [==============================] - 4s 415us/step - loss: 0.0179 - acc: 0.9959 - val_loss: 0.0650 - val_acc: 0.9816\n",
      "Epoch 16/20\n",
      "8822/8822 [==============================] - 4s 420us/step - loss: 0.0168 - acc: 0.9964 - val_loss: 0.0635 - val_acc: 0.9812\n",
      "Epoch 17/20\n",
      "8822/8822 [==============================] - 4s 418us/step - loss: 0.0141 - acc: 0.9971 - val_loss: 0.0544 - val_acc: 0.9835\n",
      "Epoch 18/20\n",
      "8822/8822 [==============================] - 4s 418us/step - loss: 0.0123 - acc: 0.9975 - val_loss: 0.0556 - val_acc: 0.9821\n",
      "Epoch 19/20\n",
      "8822/8822 [==============================] - 4s 418us/step - loss: 0.0110 - acc: 0.9977 - val_loss: 0.0588 - val_acc: 0.9823\n",
      "Epoch 20/20\n",
      "8822/8822 [==============================] - 4s 421us/step - loss: 0.0095 - acc: 0.9984 - val_loss: 0.0556 - val_acc: 0.9837\n",
      "Train F1 Score  0.9914529914529915\n",
      "Test F1 Score  0.7735849056603775\n"
     ]
    }
   ],
   "source": [
    "X = pd.read_csv('data/X.csv',sep=' ',header=None, dtype=float)\n",
    "y = pd.read_csv('data/y_bush_vs_others.csv',header=None)\n",
    "y_bush=y.values.ravel()\n",
    "X = X.as_matrix().reshape(13233,64,64,1)\n",
    "X_train, X_test, y_train, y_test = train_test_split(X, y_bush,shuffle=True, test_size=1/3, random_state=8613,stratify=y_bush)\n",
    "\n",
    "model.fit(X_train, y_train, validation_data=(X_test, y_test), epochs=20)\n",
    "pred_train=np.round(model.predict(X_train))\n",
    "pred_test=np.round(model.predict(X_test))\n",
    "print('Train F1 Score ', f1_score(y_train, pred_train))\n",
    "print('Test F1 Score ', f1_score(y_test, pred_test))"
   ]
  },
  {
   "cell_type": "code",
   "execution_count": 0,
   "metadata": {
    "colab": {},
    "colab_type": "code",
    "id": "U8SEWfYv-xas"
   },
   "outputs": [],
   "source": [
    "model.save('initialized_model_bush_773.model')                                                                                                                                     "
   ]
  },
  {
   "cell_type": "code",
   "execution_count": 0,
   "metadata": {
    "colab": {},
    "colab_type": "code",
    "id": "qK-xlIDbdWsI"
   },
   "outputs": [],
   "source": []
  }
 ],
 "metadata": {
  "accelerator": "GPU",
  "colab": {
   "name": "initialized_model_bush.ipynb",
   "provenance": [],
   "version": "0.3.2"
  },
  "kernelspec": {
   "display_name": "Python 3",
   "language": "python",
   "name": "python3"
  },
  "language_info": {
   "codemirror_mode": {
    "name": "ipython",
    "version": 3
   },
   "file_extension": ".py",
   "mimetype": "text/x-python",
   "name": "python",
   "nbconvert_exporter": "python",
   "pygments_lexer": "ipython3",
   "version": "3.6.7"
  }
 },
 "nbformat": 4,
 "nbformat_minor": 1
}
