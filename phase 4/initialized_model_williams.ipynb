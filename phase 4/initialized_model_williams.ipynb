{
 "cells": [
  {
   "cell_type": "code",
   "execution_count": 0,
   "metadata": {
    "colab": {},
    "colab_type": "code",
    "id": "WydSIkfh-xY2"
   },
   "outputs": [],
   "source": [
    "#find . -name '*.jpg' -exec mv {} ../Dataset/ \\;"
   ]
  },
  {
   "cell_type": "code",
   "execution_count": 0,
   "metadata": {
    "colab": {
     "base_uri": "https://localhost:8080/",
     "height": 35
    },
    "colab_type": "code",
    "id": "Z2pg5OVa-xY6",
    "outputId": "fac421ea-ba9d-476b-e173-5e4c75ac779f"
   },
   "outputs": [
    {
     "name": "stderr",
     "output_type": "stream",
     "text": [
      "Using TensorFlow backend.\n"
     ]
    }
   ],
   "source": [
    "import numpy as np\n",
    "import pandas as pd\n",
    "import glob\n",
    "from PIL import Image\n",
    "from tqdm import tqdm\n",
    "from keras.models import load_model\n",
    "import matplotlib.pyplot as plt\n",
    "# import numexpr as ne\n",
    "import keras_metrics"
   ]
  },
  {
   "cell_type": "code",
   "execution_count": 0,
   "metadata": {
    "colab": {},
    "colab_type": "code",
    "id": "ju_DYZL3-xY-"
   },
   "outputs": [],
   "source": [
    "import keras\n",
    "from sklearn.model_selection import train_test_split\n",
    "from keras.models import Sequential\n",
    "from keras.layers import Conv2D,MaxPooling2D, Flatten, Dense, Dropout\n",
    "from keras.activations import sigmoid,relu\n",
    "from keras.optimizers import Adam\n",
    "from sklearn.metrics import classification_report,f1_score, confusion_matrix"
   ]
  },
  {
   "cell_type": "code",
   "execution_count": 0,
   "metadata": {
    "colab": {},
    "colab_type": "code",
    "id": "GlKCTcop-0Bg"
   },
   "outputs": [],
   "source": [
    "from keras import backend as K\n",
    "\n",
    "def f1(y_true, y_pred):\n",
    "    def recall(y_true, y_pred):\n",
    "        \"\"\"Recall metric.\n",
    "\n",
    "        Only computes a batch-wise average of recall.\n",
    "\n",
    "        Computes the recall, a metric for multi-label classification of\n",
    "        how many relevant items are selected.\n",
    "        \"\"\"\n",
    "        true_positives = K.sum(K.round(K.clip(y_true * y_pred, 0, 1)))\n",
    "        possible_positives = K.sum(K.round(K.clip(y_true, 0, 1)))\n",
    "        recall = true_positives / (possible_positives + K.epsilon())\n",
    "        return recall\n",
    "\n",
    "    def precision(y_true, y_pred):\n",
    "        \"\"\"Precision metric.\n",
    "\n",
    "        Only computes a batch-wise average of precision.\n",
    "\n",
    "        Computes the precision, a metric for multi-label classification of\n",
    "        how many selected items are relevant.\n",
    "        \"\"\"\n",
    "        true_positives = K.sum(K.round(K.clip(y_true * y_pred, 0, 1)))\n",
    "        predicted_positives = K.sum(K.round(K.clip(y_pred, 0, 1)))\n",
    "        precision = true_positives / (predicted_positives + K.epsilon())\n",
    "        return precision\n",
    "    precision = precision(y_true, y_pred)\n",
    "    recall = recall(y_true, y_pred)\n",
    "    return 2*((precision*recall)/(precision+recall+K.epsilon()))\n"
   ]
  },
  {
   "cell_type": "code",
   "execution_count": 0,
   "metadata": {
    "colab": {},
    "colab_type": "code",
    "id": "Pi8jFOy6-xZC"
   },
   "outputs": [],
   "source": [
    "#Normalize\n",
    "def normalize(arr):\n",
    "    arr=arr.astype('float32')\n",
    "    if arr.max() > 1.0:\n",
    "        arr/=255.0\n",
    "    return arr\n",
    "#Grayscale\n",
    "gray = lambda rgb : np.dot(rgb[... , :3] , [0.299 , 0.587, 0.114]) "
   ]
  },
  {
   "cell_type": "code",
   "execution_count": 0,
   "metadata": {
    "colab": {
     "base_uri": "https://localhost:8080/",
     "height": 35
    },
    "colab_type": "code",
    "id": "h31v0lWh-xZL",
    "outputId": "827e1c31-332f-4942-a007-a8fd4e9d4cd4"
   },
   "outputs": [
    {
     "name": "stderr",
     "output_type": "stream",
     "text": [
      "100%|██████████| 2999/2999 [00:09<00:00, 317.54it/s]\n"
     ]
    }
   ],
   "source": [
    "# #Postives\n",
    "positive = glob.glob('./Postive/*.jpg')\n",
    "y = np.array([normalize(gray(np.array(Image.open(fname).resize((64,64), Image.ANTIALIAS)))) for fname in tqdm(positive)])\n",
    "finalp=[]\n",
    "for i in range(0,len(y)):\n",
    "    finalp.append(y[i].flatten())\n",
    "del y\n",
    "positive_df=pd.DataFrame({'X':finalp,'y':1})"
   ]
  },
  {
   "cell_type": "code",
   "execution_count": 0,
   "metadata": {
    "colab": {
     "base_uri": "https://localhost:8080/",
     "height": 35
    },
    "colab_type": "code",
    "id": "EmbwKyiP-xZh",
    "outputId": "32d2ea70-9ba9-40ad-c26b-ecb72c7c051c"
   },
   "outputs": [
    {
     "name": "stderr",
     "output_type": "stream",
     "text": [
      "100%|██████████| 2776/2776 [00:37<00:00, 74.94it/s]\n"
     ]
    }
   ],
   "source": [
    "# #Negatives\n",
    "negative = glob.glob('./Negative/*.jpg')\n",
    "n = np.array([normalize(gray(np.array(Image.open(fname).resize((64,64), Image.ANTIALIAS)))) for fname in tqdm(negative[:])])\n",
    "final=[]\n",
    "for i in range(0,len(n)):\n",
    "    final.append(n[i].flatten())\n",
    "negative_df=pd.DataFrame({'X':final,'y':0})"
   ]
  },
  {
   "cell_type": "code",
   "execution_count": 0,
   "metadata": {
    "colab": {},
    "colab_type": "code",
    "id": "zK6PkqJM-xZP"
   },
   "outputs": [],
   "source": [
    "# negative_df = pd.read_csv('negatives.csv')\n",
    "final_dataset=pd.concat([positive_df,negative_df])\n",
    "final_dataset=final_dataset.sample(frac=1)\n",
    "final_dataset.reset_index(inplace=True)\n",
    "final_dataset.drop('index',inplace=True,axis=1)"
   ]
  },
  {
   "cell_type": "code",
   "execution_count": 0,
   "metadata": {
    "colab": {
     "base_uri": "https://localhost:8080/",
     "height": 198
    },
    "colab_type": "code",
    "id": "qAtvU19v-xZa",
    "outputId": "7e819583-583e-4e0a-e7e3-4df3c739ecf4"
   },
   "outputs": [
    {
     "data": {
      "text/html": [
       "<div>\n",
       "<style scoped>\n",
       "    .dataframe tbody tr th:only-of-type {\n",
       "        vertical-align: middle;\n",
       "    }\n",
       "\n",
       "    .dataframe tbody tr th {\n",
       "        vertical-align: top;\n",
       "    }\n",
       "\n",
       "    .dataframe thead th {\n",
       "        text-align: right;\n",
       "    }\n",
       "</style>\n",
       "<table border=\"1\" class=\"dataframe\">\n",
       "  <thead>\n",
       "    <tr style=\"text-align: right;\">\n",
       "      <th></th>\n",
       "      <th>X</th>\n",
       "      <th>y</th>\n",
       "    </tr>\n",
       "  </thead>\n",
       "  <tbody>\n",
       "    <tr>\n",
       "      <th>0</th>\n",
       "      <td>[0.0, 0.0, 0.0, 0.0, 0.0, 0.0, 0.0, 0.0, 0.0, ...</td>\n",
       "      <td>1</td>\n",
       "    </tr>\n",
       "    <tr>\n",
       "      <th>1</th>\n",
       "      <td>[0.0, 0.0, 0.0, 0.0, 0.0, 0.0, 0.0, 0.0, 0.0, ...</td>\n",
       "      <td>1</td>\n",
       "    </tr>\n",
       "    <tr>\n",
       "      <th>2</th>\n",
       "      <td>[0.058529414, 0.07280784, 0.07376863, 0.085152...</td>\n",
       "      <td>0</td>\n",
       "    </tr>\n",
       "    <tr>\n",
       "      <th>3</th>\n",
       "      <td>[0.855349, 0.85462356, 0.86594117, 0.8737843, ...</td>\n",
       "      <td>0</td>\n",
       "    </tr>\n",
       "    <tr>\n",
       "      <th>4</th>\n",
       "      <td>[0.13361962, 0.102611765, 0.09141569, 0.086764...</td>\n",
       "      <td>0</td>\n",
       "    </tr>\n",
       "  </tbody>\n",
       "</table>\n",
       "</div>"
      ],
      "text/plain": [
       "                                                   X  y\n",
       "0  [0.0, 0.0, 0.0, 0.0, 0.0, 0.0, 0.0, 0.0, 0.0, ...  1\n",
       "1  [0.0, 0.0, 0.0, 0.0, 0.0, 0.0, 0.0, 0.0, 0.0, ...  1\n",
       "2  [0.058529414, 0.07280784, 0.07376863, 0.085152...  0\n",
       "3  [0.855349, 0.85462356, 0.86594117, 0.8737843, ...  0\n",
       "4  [0.13361962, 0.102611765, 0.09141569, 0.086764...  0"
      ]
     },
     "execution_count": 8,
     "metadata": {
      "tags": []
     },
     "output_type": "execute_result"
    }
   ],
   "source": [
    "final_dataset.head()"
   ]
  },
  {
   "cell_type": "code",
   "execution_count": 0,
   "metadata": {
    "colab": {},
    "colab_type": "code",
    "id": "qEcasMIx-xZl"
   },
   "outputs": [],
   "source": [
    "another=[]\n",
    "for i in range(len(final_dataset)):\n",
    "    another.append(final_dataset.X[i].reshape(64,64,1))"
   ]
  },
  {
   "cell_type": "markdown",
   "metadata": {
    "colab_type": "text",
    "id": "avDNQNdm935A"
   },
   "source": [
    "#**Binary Face Classifier**"
   ]
  },
  {
   "cell_type": "code",
   "execution_count": 0,
   "metadata": {
    "colab": {
     "base_uri": "https://localhost:8080/",
     "height": 235
    },
    "colab_type": "code",
    "id": "qJHChGLp-xZ8",
    "outputId": "ea706e52-32e1-4474-f807-c8f692223790"
   },
   "outputs": [
    {
     "name": "stdout",
     "output_type": "stream",
     "text": [
      "Train on 3850 samples, validate on 1925 samples\n",
      "Epoch 1/5\n",
      "3850/3850 [==============================] - 2s 563us/step - loss: 0.3792 - acc: 0.8244 - val_loss: 0.3009 - val_acc: 0.8494\n",
      "Epoch 2/5\n",
      "3850/3850 [==============================] - 2s 432us/step - loss: 0.1396 - acc: 0.9558 - val_loss: 0.0944 - val_acc: 0.9714\n",
      "Epoch 3/5\n",
      "3850/3850 [==============================] - 2s 424us/step - loss: 0.0816 - acc: 0.9792 - val_loss: 0.0740 - val_acc: 0.9803\n",
      "Epoch 4/5\n",
      "3850/3850 [==============================] - 2s 419us/step - loss: 0.0524 - acc: 0.9857 - val_loss: 0.0504 - val_acc: 0.9901\n",
      "Epoch 5/5\n",
      "3850/3850 [==============================] - 2s 418us/step - loss: 0.0400 - acc: 0.9917 - val_loss: 0.0421 - val_acc: 0.9901\n"
     ]
    },
    {
     "data": {
      "text/plain": [
       "0.9904761904761905"
      ]
     },
     "execution_count": 20,
     "metadata": {
      "tags": []
     },
     "output_type": "execute_result"
    }
   ],
   "source": [
    "X=np.array(another)\n",
    "y=final_dataset.y.tolist()\n",
    "X_train, X_test, y_train, y_test = train_test_split(X, y,shuffle=True, test_size=1/3, random_state=8613)\n",
    "del model\n",
    "model=Sequential()\n",
    "model.add(Conv2D(32, kernel_size=(3,3),input_shape=(64,64,1),activation='relu'))\n",
    "model.add(MaxPooling2D(strides=(2,2)))\n",
    "model.add(Dropout(0.05))\n",
    "model.add(Flatten())\n",
    "model.add(Dense(1,activation='sigmoid'))\n",
    "model.compile(optimizer='adadelta', loss='binary_crossentropy', metrics=['accuracy'])\n",
    "model.fit(X_train, y_train, validation_data=(X_test, y_test), epochs=5)\n",
    "pred_train=np.round(model.predict(X_train))\n",
    "pred_test=np.round(model.predict(X_test))\n",
    "f1_score(y_test,pred_test)"
   ]
  },
  {
   "cell_type": "code",
   "execution_count": 0,
   "metadata": {
    "colab": {
     "base_uri": "https://localhost:8080/",
     "height": 326
    },
    "colab_type": "code",
    "id": "IzB6SRAa37Xu",
    "outputId": "5a002fdd-8fdf-4f98-a4af-4e50f7349ce0"
   },
   "outputs": [
    {
     "name": "stdout",
     "output_type": "stream",
     "text": [
      "_________________________________________________________________\n",
      "Layer (type)                 Output Shape              Param #   \n",
      "=================================================================\n",
      "conv2d_5 (Conv2D)            (None, 62, 62, 32)        320       \n",
      "_________________________________________________________________\n",
      "max_pooling2d_5 (MaxPooling2 (None, 31, 31, 32)        0         \n",
      "_________________________________________________________________\n",
      "dropout_5 (Dropout)          (None, 31, 31, 32)        0         \n",
      "_________________________________________________________________\n",
      "flatten_5 (Flatten)          (None, 30752)             0         \n",
      "_________________________________________________________________\n",
      "dense_5 (Dense)              (None, 1)                 30753     \n",
      "=================================================================\n",
      "Total params: 31,073\n",
      "Trainable params: 31,073\n",
      "Non-trainable params: 0\n",
      "_________________________________________________________________\n"
     ]
    }
   ],
   "source": [
    "model.summary()"
   ]
  },
  {
   "cell_type": "markdown",
   "metadata": {
    "colab_type": "text",
    "id": "tkftjSZ39-F9"
   },
   "source": [
    "# **Transfer Learning**"
   ]
  },
  {
   "cell_type": "code",
   "execution_count": 0,
   "metadata": {
    "colab": {
     "base_uri": "https://localhost:8080/",
     "height": 799
    },
    "colab_type": "code",
    "id": "tPl1LfqU-xaT",
    "outputId": "7cbc2f5d-58af-4b80-eb1f-20c7d9d73e5b"
   },
   "outputs": [
    {
     "name": "stdout",
     "output_type": "stream",
     "text": [
      "Train on 8822 samples, validate on 4411 samples\n",
      "Epoch 1/20\n",
      "8822/8822 [==============================] - 4s 440us/step - loss: 0.0657 - acc: 0.9905 - val_loss: 0.0251 - val_acc: 0.9961\n",
      "Epoch 2/20\n",
      "8822/8822 [==============================] - 4s 438us/step - loss: 0.0232 - acc: 0.9958 - val_loss: 0.0144 - val_acc: 0.9966\n",
      "Epoch 3/20\n",
      "8822/8822 [==============================] - 4s 438us/step - loss: 0.0157 - acc: 0.9960 - val_loss: 0.0116 - val_acc: 0.9971\n",
      "Epoch 4/20\n",
      "8822/8822 [==============================] - 4s 465us/step - loss: 0.0116 - acc: 0.9972 - val_loss: 0.0100 - val_acc: 0.9975\n",
      "Epoch 5/20\n",
      "8822/8822 [==============================] - 4s 455us/step - loss: 0.0102 - acc: 0.9976 - val_loss: 0.0097 - val_acc: 0.9975\n",
      "Epoch 6/20\n",
      "8822/8822 [==============================] - 4s 438us/step - loss: 0.0078 - acc: 0.9975 - val_loss: 0.0130 - val_acc: 0.9966\n",
      "Epoch 7/20\n",
      "8822/8822 [==============================] - 4s 441us/step - loss: 0.0074 - acc: 0.9982 - val_loss: 0.0094 - val_acc: 0.9977\n",
      "Epoch 8/20\n",
      "8822/8822 [==============================] - 4s 440us/step - loss: 0.0066 - acc: 0.9982 - val_loss: 0.0092 - val_acc: 0.9977\n",
      "Epoch 9/20\n",
      "8822/8822 [==============================] - 4s 441us/step - loss: 0.0051 - acc: 0.9983 - val_loss: 0.0095 - val_acc: 0.9977\n",
      "Epoch 10/20\n",
      "8822/8822 [==============================] - 4s 455us/step - loss: 0.0050 - acc: 0.9988 - val_loss: 0.0093 - val_acc: 0.9975\n",
      "Epoch 11/20\n",
      "8822/8822 [==============================] - 4s 450us/step - loss: 0.0041 - acc: 0.9989 - val_loss: 0.0098 - val_acc: 0.9975\n",
      "Epoch 12/20\n",
      "8822/8822 [==============================] - 4s 449us/step - loss: 0.0037 - acc: 0.9990 - val_loss: 0.0088 - val_acc: 0.9977\n",
      "Epoch 13/20\n",
      "8822/8822 [==============================] - 4s 449us/step - loss: 0.0029 - acc: 0.9991 - val_loss: 0.0088 - val_acc: 0.9982\n",
      "Epoch 14/20\n",
      "8822/8822 [==============================] - 4s 448us/step - loss: 0.0025 - acc: 0.9995 - val_loss: 0.0099 - val_acc: 0.9977\n",
      "Epoch 15/20\n",
      "8822/8822 [==============================] - 4s 453us/step - loss: 0.0023 - acc: 0.9994 - val_loss: 0.0089 - val_acc: 0.9977\n",
      "Epoch 16/20\n",
      "8822/8822 [==============================] - 4s 447us/step - loss: 0.0020 - acc: 0.9997 - val_loss: 0.0088 - val_acc: 0.9980\n",
      "Epoch 17/20\n",
      "8822/8822 [==============================] - 4s 449us/step - loss: 0.0016 - acc: 0.9997 - val_loss: 0.0096 - val_acc: 0.9975\n",
      "Epoch 18/20\n",
      "8822/8822 [==============================] - 4s 449us/step - loss: 0.0013 - acc: 0.9995 - val_loss: 0.0088 - val_acc: 0.9980\n",
      "Epoch 19/20\n",
      "8822/8822 [==============================] - 4s 454us/step - loss: 0.0012 - acc: 0.9998 - val_loss: 0.0119 - val_acc: 0.9964\n",
      "Epoch 20/20\n",
      "8822/8822 [==============================] - 4s 449us/step - loss: 0.0011 - acc: 0.9997 - val_loss: 0.0103 - val_acc: 0.9980\n",
      "Train F1 Score  0.9855072463768115\n",
      "Test F1 Score  0.6896551724137931\n"
     ]
    }
   ],
   "source": [
    "X = pd.read_csv('data/X.csv',sep=' ',header=None, dtype=float)\n",
    "y = pd.read_csv('data/y_williams_vs_others.csv',header=None)\n",
    "y_williams=y.values.ravel()\n",
    "X = X.as_matrix().reshape(13233,64,64,1)\n",
    "X_train, X_test, y_train, y_test = train_test_split(X, y_williams,shuffle=True, test_size=1/3, random_state=8613,stratify=y_williams)\n",
    "\n",
    "model.fit(X_train, y_train, validation_data=(X_test, y_test), epochs=20)\n",
    "pred_train=np.round(model.predict(X_train))\n",
    "pred_test=np.round(model.predict(X_test))\n",
    "print('Train F1 Score ', f1_score(y_train, pred_train))\n",
    "print('Test F1 Score ', f1_score(y_test, pred_test))"
   ]
  },
  {
   "cell_type": "code",
   "execution_count": 0,
   "metadata": {
    "colab": {},
    "colab_type": "code",
    "id": "U8SEWfYv-xas"
   },
   "outputs": [],
   "source": [
    "model.save('initialized_model_williams_689.model')                                                                                                                                     "
   ]
  },
  {
   "cell_type": "code",
   "execution_count": 0,
   "metadata": {
    "colab": {},
    "colab_type": "code",
    "id": "qK-xlIDbdWsI"
   },
   "outputs": [],
   "source": []
  }
 ],
 "metadata": {
  "accelerator": "GPU",
  "colab": {
   "collapsed_sections": [],
   "name": "initialized_model_williams.ipynb",
   "provenance": [],
   "version": "0.3.2"
  },
  "kernelspec": {
   "display_name": "Python 3",
   "language": "python",
   "name": "python3"
  },
  "language_info": {
   "codemirror_mode": {
    "name": "ipython",
    "version": 3
   },
   "file_extension": ".py",
   "mimetype": "text/x-python",
   "name": "python",
   "nbconvert_exporter": "python",
   "pygments_lexer": "ipython3",
   "version": "3.6.5"
  }
 },
 "nbformat": 4,
 "nbformat_minor": 1
}
