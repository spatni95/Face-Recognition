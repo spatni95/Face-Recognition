{
 "cells": [
  {
   "cell_type": "code",
   "execution_count": null,
   "metadata": {
    "colab": {
     "base_uri": "https://localhost:8080/",
     "height": 35
    },
    "colab_type": "code",
    "id": "0QJ3KxzL7cRS",
    "outputId": "a03d0268-121e-4661-b80e-d8e9aec71c6c"
   },
   "outputs": [],
   "source": [
    "import keras\n",
    "from sklearn.model_selection import train_test_split\n",
    "from keras.models import Sequential\n",
    "import numpy as np\n",
    "import pandas as pd\n",
    "from keras.layers import Conv2D,MaxPooling2D, Flatten, Dense, Dropout\n",
    "from keras.activations import sigmoid,relu\n",
    "from keras.optimizers import Adam\n",
    "from sklearn.metrics import classification_report,f1_score, confusion_matrix\n",
    "import matplotlib.pyplot as plt"
   ]
  },
  {
   "cell_type": "code",
   "execution_count": null,
   "metadata": {
    "colab": {},
    "colab_type": "code",
    "id": "E5Q_PBvn7cRV"
   },
   "outputs": [],
   "source": [
    "X = pd.read_csv('E:/Chicago/Machine Learning/Project/data/X.csv',sep=' ',header=None, dtype=float)\n",
    "y=pd.read_csv('E:/Chicago/Machine Learning/Project/data/y_bush_vs_others.csv',header=None)\n",
    "y_bush=y.values.ravel()\n"
   ]
  },
  {
   "cell_type": "code",
   "execution_count": null,
   "metadata": {
    "colab": {},
    "colab_type": "code",
    "id": "mzJD7l1b7cRY"
   },
   "outputs": [],
   "source": [
    "X = X.as_matrix().reshape(13233,64,64,1)"
   ]
  },
  {
   "cell_type": "code",
   "execution_count": null,
   "metadata": {
    "colab": {},
    "colab_type": "code",
    "id": "X9kJoJp57cRh"
   },
   "outputs": [],
   "source": [
    "X_train, X_test, y_train, y_test = train_test_split(X, y_bush,shuffle=True, test_size=1/3, random_state=8510, stratify=y_bush)"
   ]
  },
  {
   "cell_type": "code",
   "execution_count": null,
   "metadata": {
    "colab": {
     "base_uri": "https://localhost:8080/",
     "height": 416
    },
    "colab_type": "code",
    "id": "7gNzI-xR7cRk",
    "outputId": "e48a7a29-300e-480f-d95f-8ffe2bea3b40"
   },
   "outputs": [],
   "source": [
    "del model\n",
    "model=Sequential()\n",
    "model.add(Conv2D(32, kernel_size=(5,5),input_shape=(64,64,1),activation='relu'))\n",
    "model.add(MaxPooling2D(strides=(2,2)))\n",
    "model.add(Flatten())\n",
    "# model.add(Dense(32,activation='relu'))\n",
    "model.add(Dropout(0.05))\n",
    "model.add(Dense(1,activation='sigmoid'))\n",
    "model.compile(optimizer='adam', loss='binary_crossentropy', metrics=['accuracy'])\n",
    "model.fit(X_train, y_train, validation_data=(X_test, y_test), epochs=10)\n",
    "pred_train=np.round(model.predict(X_train))\n",
    "pred_test=np.round(model.predict(X_test))\n",
    "print('Train F1 Score ', f1_score(y_train, pred_train))\n",
    "print('Test F1 Score ', f1_score(y_test, pred_test))"
   ]
  },
  {
   "cell_type": "code",
   "execution_count": null,
   "metadata": {
    "colab": {
     "base_uri": "https://localhost:8080/",
     "height": 312
    },
    "colab_type": "code",
    "id": "chNOB1Wvmsa3",
    "outputId": "3c161993-7d65-4962-b13a-33941dbad0a0"
   },
   "outputs": [],
   "source": [
    "model.summary()"
   ]
  },
  {
   "cell_type": "code",
   "execution_count": null,
   "metadata": {
    "colab": {},
    "colab_type": "code",
    "id": "Ik31ierQz12M"
   },
   "outputs": [],
   "source": [
    "model.save('bush.model')"
   ]
  },
  {
   "cell_type": "code",
   "execution_count": null,
   "metadata": {
    "colab": {
     "base_uri": "https://localhost:8080/",
     "height": 35
    },
    "colab_type": "code",
    "id": "QzAeAjfG7cSa",
    "outputId": "caebce8f-41ee-4eec-c522-c24a3262a62a"
   },
   "outputs": [],
   "source": [
    "np.unique(y_test, return_counts=True)"
   ]
  },
  {
   "cell_type": "code",
   "execution_count": null,
   "metadata": {
    "colab": {
     "base_uri": "https://localhost:8080/",
     "height": 35
    },
    "colab_type": "code",
    "id": "MjzZX85enPjU",
    "outputId": "12e620db-169a-4986-cb04-899958e693a1"
   },
   "outputs": [],
   "source": [
    "!ls"
   ]
  },
  {
   "cell_type": "code",
   "execution_count": null,
   "metadata": {
    "colab": {},
    "colab_type": "code",
    "id": "48dE2EEAsQZa"
   },
   "outputs": [],
   "source": []
  }
 ],
 "metadata": {
  "accelerator": "GPU",
  "colab": {
   "collapsed_sections": [],
   "name": "Final_bush_p3.ipynb",
   "provenance": [],
   "version": "0.3.2"
  },
  "kernelspec": {
   "display_name": "Python 3",
   "language": "python",
   "name": "python3"
  },
  "language_info": {
   "codemirror_mode": {
    "name": "ipython",
    "version": 3
   },
   "file_extension": ".py",
   "mimetype": "text/x-python",
   "name": "python",
   "nbconvert_exporter": "python",
   "pygments_lexer": "ipython3",
   "version": "3.6.7"
  }
 },
 "nbformat": 4,
 "nbformat_minor": 1
}
