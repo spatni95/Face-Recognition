{
 "cells": [
  {
   "cell_type": "code",
   "execution_count": 0,
   "metadata": {
    "colab": {},
    "colab_type": "code",
    "id": "uzw8TB22nbcK"
   },
   "outputs": [],
   "source": [
    "from google.colab import drive\n",
    "drive.mount('/content/gdrive')\n",
    "!unzip gdrive/My\\ Drive/IIT/cs584/Assignment/PROJECT/data.zip\n"
   ]
  },
  {
   "cell_type": "code",
   "execution_count": 1,
   "metadata": {
    "colab": {
     "base_uri": "https://localhost:8080/",
     "height": 35
    },
    "colab_type": "code",
    "id": "0QJ3KxzL7cRS",
    "outputId": "a03d0268-121e-4661-b80e-d8e9aec71c6c"
   },
   "outputs": [
    {
     "name": "stderr",
     "output_type": "stream",
     "text": [
      "Using TensorFlow backend.\n"
     ]
    }
   ],
   "source": [
    "import keras\n",
    "from sklearn.model_selection import train_test_split\n",
    "from keras.models import Sequential\n",
    "import numpy as np\n",
    "import pandas as pd\n",
    "from keras.layers import Conv2D,MaxPooling2D, Flatten, Dense, Dropout\n",
    "from keras.activations import sigmoid,relu\n",
    "from keras.optimizers import Adam\n",
    "from sklearn.metrics import classification_report,f1_score, confusion_matrix\n",
    "import matplotlib.pyplot as plt"
   ]
  },
  {
   "cell_type": "code",
   "execution_count": 0,
   "metadata": {
    "colab": {},
    "colab_type": "code",
    "id": "E5Q_PBvn7cRV"
   },
   "outputs": [],
   "source": [
    "X = pd.read_csv('E:/Chicago/Machine Learning/Project/data/X.csv',sep=' ',header=None, dtype=float)\n",
    "y=pd.read_csv('E:/Chicago/Machine Learning/Project/data/y_bush_vs_others.csv',header=None)\n",
    "y_bush=y.values.ravel()\n"
   ]
  },
  {
   "cell_type": "code",
   "execution_count": 0,
   "metadata": {
    "colab": {},
    "colab_type": "code",
    "id": "mzJD7l1b7cRY"
   },
   "outputs": [],
   "source": [
    "X = X.as_matrix().reshape(13233,64,64,1)"
   ]
  },
  {
   "cell_type": "code",
   "execution_count": 0,
   "metadata": {
    "colab": {},
    "colab_type": "code",
    "id": "X9kJoJp57cRh"
   },
   "outputs": [],
   "source": [
    "X_train, X_test, y_train, y_test = train_test_split(X, y_bush,shuffle=True, test_size=1/3, random_state=8613,stratify=y_bush)"
   ]
  },
  {
   "cell_type": "code",
   "execution_count": 40,
   "metadata": {
    "colab": {
     "base_uri": "https://localhost:8080/",
     "height": 416
    },
    "colab_type": "code",
    "id": "7gNzI-xR7cRk",
    "outputId": "e48a7a29-300e-480f-d95f-8ffe2bea3b40"
   },
   "outputs": [
    {
     "name": "stdout",
     "output_type": "stream",
     "text": [
      "Train on 8822 samples, validate on 4411 samples\n",
      "Epoch 1/10\n",
      "8822/8822 [==============================] - 5s 606us/step - loss: 0.1712 - acc: 0.9584 - val_loss: 0.1402 - val_acc: 0.9599\n",
      "Epoch 2/10\n",
      "8822/8822 [==============================] - 4s 407us/step - loss: 0.1225 - acc: 0.9615 - val_loss: 0.1090 - val_acc: 0.9714\n",
      "Epoch 3/10\n",
      "8822/8822 [==============================] - 4s 407us/step - loss: 0.0868 - acc: 0.9701 - val_loss: 0.1092 - val_acc: 0.9626\n",
      "Epoch 4/10\n",
      "8822/8822 [==============================] - 4s 406us/step - loss: 0.0655 - acc: 0.9771 - val_loss: 0.0771 - val_acc: 0.9769\n",
      "Epoch 5/10\n",
      "8822/8822 [==============================] - 4s 408us/step - loss: 0.0493 - acc: 0.9841 - val_loss: 0.0664 - val_acc: 0.9766\n",
      "Epoch 6/10\n",
      "8822/8822 [==============================] - 4s 406us/step - loss: 0.0410 - acc: 0.9872 - val_loss: 0.0629 - val_acc: 0.9787\n",
      "Epoch 7/10\n",
      "8822/8822 [==============================] - 4s 409us/step - loss: 0.0327 - acc: 0.9907 - val_loss: 0.0602 - val_acc: 0.9785\n",
      "Epoch 8/10\n",
      "8822/8822 [==============================] - 4s 410us/step - loss: 0.0276 - acc: 0.9922 - val_loss: 0.0708 - val_acc: 0.9789\n",
      "Epoch 9/10\n",
      "8822/8822 [==============================] - 4s 407us/step - loss: 0.0211 - acc: 0.9941 - val_loss: 0.0975 - val_acc: 0.9739\n",
      "Epoch 10/10\n",
      "8822/8822 [==============================] - 4s 407us/step - loss: 0.0194 - acc: 0.9944 - val_loss: 0.0570 - val_acc: 0.9819\n",
      "Train F1 Score  0.9798850574712643\n",
      "Test F1 Score  0.7530864197530864\n"
     ]
    }
   ],
   "source": [
    "del model\n",
    "model=Sequential()\n",
    "model.add(Conv2D(32, kernel_size=(5,5),input_shape=(64,64,1),activation='relu'))\n",
    "model.add(MaxPooling2D(strides=(2,2)))\n",
    "model.add(Flatten())\n",
    "# model.add(Dense(32,activation='relu'))\n",
    "model.add(Dropout(0.05))\n",
    "model.add(Dense(1,activation='sigmoid'))\n",
    "model.compile(optimizer='adam', loss='binary_crossentropy', metrics=['accuracy'])\n",
    "model.fit(X_train, y_train, validation_data=(X_test, y_test), epochs=10)\n",
    "pred_train=np.round(model.predict(X_train))\n",
    "pred_test=np.round(model.predict(X_test))\n",
    "print('Train F1 Score ', f1_score(y_train, pred_train))\n",
    "print('Test F1 Score ', f1_score(y_test, pred_test))"
   ]
  },
  {
   "cell_type": "code",
   "execution_count": 44,
   "metadata": {
    "colab": {
     "base_uri": "https://localhost:8080/",
     "height": 312
    },
    "colab_type": "code",
    "id": "chNOB1Wvmsa3",
    "outputId": "3c161993-7d65-4962-b13a-33941dbad0a0"
   },
   "outputs": [
    {
     "name": "stdout",
     "output_type": "stream",
     "text": [
      "_________________________________________________________________\n",
      "Layer (type)                 Output Shape              Param #   \n",
      "=================================================================\n",
      "conv2d_28 (Conv2D)           (None, 60, 60, 32)        832       \n",
      "_________________________________________________________________\n",
      "max_pooling2d_28 (MaxPooling (None, 30, 30, 32)        0         \n",
      "_________________________________________________________________\n",
      "flatten_28 (Flatten)         (None, 28800)             0         \n",
      "_________________________________________________________________\n",
      "dropout_15 (Dropout)         (None, 28800)             0         \n",
      "_________________________________________________________________\n",
      "dense_50 (Dense)             (None, 1)                 28801     \n",
      "=================================================================\n",
      "Total params: 29,633\n",
      "Trainable params: 29,633\n",
      "Non-trainable params: 0\n",
      "_________________________________________________________________\n"
     ]
    }
   ],
   "source": [
    "model.summary()"
   ]
  },
  {
   "cell_type": "code",
   "execution_count": 0,
   "metadata": {
    "colab": {},
    "colab_type": "code",
    "id": "Ik31ierQz12M"
   },
   "outputs": [],
   "source": [
    "model.save('bush.model')"
   ]
  },
  {
   "cell_type": "code",
   "execution_count": 0,
   "metadata": {
    "colab": {
     "base_uri": "https://localhost:8080/",
     "height": 35
    },
    "colab_type": "code",
    "id": "QzAeAjfG7cSa",
    "outputId": "caebce8f-41ee-4eec-c522-c24a3262a62a"
   },
   "outputs": [
    {
     "data": {
      "text/plain": [
       "(array([0, 1]), array([4234,  177]))"
      ]
     },
     "execution_count": 27,
     "metadata": {
      "tags": []
     },
     "output_type": "execute_result"
    }
   ],
   "source": [
    "np.unique(y_test, return_counts=True)"
   ]
  },
  {
   "cell_type": "code",
   "execution_count": 47,
   "metadata": {
    "colab": {
     "base_uri": "https://localhost:8080/",
     "height": 35
    },
    "colab_type": "code",
    "id": "MjzZX85enPjU",
    "outputId": "12e620db-169a-4986-cb04-899958e693a1"
   },
   "outputs": [
    {
     "name": "stdout",
     "output_type": "stream",
     "text": [
      "bush.pickle  data  gdrive  sample_data\twilliams.model\twilliams.pickle\n"
     ]
    }
   ],
   "source": [
    "!ls"
   ]
  },
  {
   "cell_type": "code",
   "execution_count": 0,
   "metadata": {
    "colab": {},
    "colab_type": "code",
    "id": "48dE2EEAsQZa"
   },
   "outputs": [],
   "source": []
  }
 ],
 "metadata": {
  "accelerator": "GPU",
  "colab": {
   "collapsed_sections": [],
   "name": "Final_bush_p3.ipynb",
   "provenance": [],
   "version": "0.3.2"
  },
  "kernelspec": {
   "display_name": "Python 3",
   "language": "python",
   "name": "python3"
  },
  "language_info": {
   "codemirror_mode": {
    "name": "ipython",
    "version": 3
   },
   "file_extension": ".py",
   "mimetype": "text/x-python",
   "name": "python",
   "nbconvert_exporter": "python",
   "pygments_lexer": "ipython3",
   "version": "3.6.5"
  }
 },
 "nbformat": 4,
 "nbformat_minor": 1
}
