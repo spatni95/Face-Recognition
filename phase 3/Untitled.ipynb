{
 "cells": [
  {
   "cell_type": "code",
   "execution_count": 1,
   "metadata": {},
   "outputs": [
    {
     "name": "stdout",
     "output_type": "stream",
     "text": [
      "(0.961764705882353, 0.6643109540636042)\n",
      "(0.955223880597015, 0.5)\n"
     ]
    }
   ],
   "source": [
    "import pickle\n",
    "import pandas as pd\n",
    "\n",
    "result_tuple = (0.961764705882353, 0.6643109540636042)\n",
    "\n",
    "pickle.dump(result_tuple, open('bush.pkl', 'wb'))\n",
    "\n",
    "df = pd.read_pickle(\"bush.pkl\")\n",
    "print(df)\n",
    "\n",
    "result_tuple = (0.955223880597015, 0.5)\n",
    "\n",
    "pickle.dump(result_tuple, open('williams.pkl', 'wb'))\n",
    "df = pd.read_pickle(\"williams.pkl\")\n",
    "print(df)"
   ]
  },
  {
   "cell_type": "code",
   "execution_count": null,
   "metadata": {},
   "outputs": [],
   "source": []
  }
 ],
 "metadata": {
  "kernelspec": {
   "display_name": "Python 3",
   "language": "python",
   "name": "python3"
  },
  "language_info": {
   "codemirror_mode": {
    "name": "ipython",
    "version": 3
   },
   "file_extension": ".py",
   "mimetype": "text/x-python",
   "name": "python",
   "nbconvert_exporter": "python",
   "pygments_lexer": "ipython3",
   "version": "3.6.7"
  }
 },
 "nbformat": 4,
 "nbformat_minor": 2
}
