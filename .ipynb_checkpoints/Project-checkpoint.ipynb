{
 "cells": [
  {
   "cell_type": "code",
   "execution_count": 2,
   "metadata": {},
   "outputs": [],
   "source": [
    "import numpy as np\n",
    "import pandas as pd\n",
    "from sklearn.neighbors import KNeighborsClassifier\n",
    "from sklearn.model_selection import cross_validate\n",
    "from sklearn.model_selection import StratifiedKFold\n",
    "from sklearn.svm import SVC\n",
    "\n",
    "aNumber = \"20428510\"\n",
    "\n",
    "data = pd.read_csv(\"X.csv\", sep = ' ')\n",
    "X = data.values\n",
    "y_data = pd.read_csv(\"y_williams_vs_others.csv\")\n",
    "y = y_data.values.ravel()"
   ]
  },
  {
   "cell_type": "code",
   "execution_count": 3,
   "metadata": {},
   "outputs": [
    {
     "name": "stdout",
     "output_type": "stream",
     "text": [
      "{'fit_time': array([ 9.90811205, 10.2562499 , 10.04088545]), 'score_time': array([1140.68023419, 1134.26497173, 1134.47868824]), 'test_precision': array([0., 0., 0.]), 'test_recall': array([0., 0., 0.]), 'test_f1': array([0., 0., 0.])}\n",
      "{'fit_time': array([10.16839671, 10.2444551 , 10.09349418]), 'score_time': array([1447.24314523, 1447.31769705, 1451.05870485]), 'test_precision': array([0., 0., 0.]), 'test_recall': array([0., 0., 0.]), 'test_f1': array([0., 0., 0.])}\n"
     ]
    }
   ],
   "source": [
    "knn_model = KNeighborsClassifier(n_neighbors=3)\n",
    "\n",
    "stratified_cv_results = cross_validate(knn_model, X, y, cv=StratifiedKFold(n_splits = 3, shuffle=True, random_state = int(aNumber[4:8])), n_jobs=-1, scoring=('precision', 'recall', 'f1'), return_train_score=False)\n",
    "print(stratified_cv_results)\n",
    "\n",
    "knn_model = KNeighborsClassifier(n_neighbors=5)\n",
    "\n",
    "stratified_cv_results = cross_validate(knn_model, X, y, cv=StratifiedKFold(n_splits = 3, shuffle=True, random_state = int(aNumber[4:8])), n_jobs=-1, scoring=('precision', 'recall', 'f1'), return_train_score=False)\n",
    "print(stratified_cv_results)\n"
   ]
  },
  {
   "cell_type": "code",
   "execution_count": null,
   "metadata": {},
   "outputs": [
    {
     "name": "stdout",
     "output_type": "stream",
     "text": [
      "1\n",
      "{'fit_time': array([17.05141497, 16.68738723, 16.03712749]), 'score_time': array([17.08059931, 16.73413897, 15.88093495]), 'test_precision': array([0.75, 0.8 , 0.8 ]), 'test_recall': array([0.5       , 0.47058824, 0.23529412]), 'test_f1': array([0.6       , 0.59259259, 0.36363636])}\n",
      "4\n",
      "{'fit_time': array([16.35264111, 15.97135949, 15.5683856 ]), 'score_time': array([17.4796679 , 17.13150358, 16.26651669]), 'test_precision': array([0.75, 0.8 , 0.8 ]), 'test_recall': array([0.5       , 0.47058824, 0.23529412]), 'test_f1': array([0.6       , 0.59259259, 0.36363636])}\n",
      "7\n",
      "{'fit_time': array([16.49408388, 16.18777061, 15.53339458]), 'score_time': array([17.10437155, 16.80109358, 15.95793247]), 'test_precision': array([0.75, 0.8 , 0.8 ]), 'test_recall': array([0.5       , 0.47058824, 0.23529412]), 'test_f1': array([0.6       , 0.59259259, 0.36363636])}\n",
      "10\n",
      "{'fit_time': array([16.2188406 , 16.00745249, 15.26455832]), 'score_time': array([17.14788055, 16.77477002, 15.98927236]), 'test_precision': array([0.75, 0.8 , 0.8 ]), 'test_recall': array([0.5       , 0.47058824, 0.23529412]), 'test_f1': array([0.6       , 0.59259259, 0.36363636])}\n",
      "0.1\n",
      "{'fit_time': array([16.02263355, 15.90049934, 15.05914545]), 'score_time': array([17.5627985 , 17.19397974, 16.34844017]), 'test_precision': array([0.75, 0.8 , 0.8 ]), 'test_recall': array([0.5       , 0.47058824, 0.23529412]), 'test_f1': array([0.6       , 0.59259259, 0.36363636])}\n",
      "0.4\n",
      "{'fit_time': array([16.99849439, 16.61825371, 15.70167565]), 'score_time': array([17.80790043, 17.40561795, 16.57130265]), 'test_precision': array([0.75, 0.8 , 0.8 ]), 'test_recall': array([0.5       , 0.47058824, 0.23529412]), 'test_f1': array([0.6       , 0.59259259, 0.36363636])}\n",
      "0.7\n"
     ]
    }
   ],
   "source": [
    "i=1\n",
    "while i < 11:\n",
    "    print(i)\n",
    "    svc_model = SVC(C=i, kernel='linear')\n",
    "\n",
    "    stratified_cv_results = cross_validate(svc_model, X, y, cv=StratifiedKFold(n_splits = 3, shuffle=True, random_state = int(aNumber[4:8])), n_jobs=-1, scoring=('precision', 'recall', 'f1'), return_train_score=False)\n",
    "    print(stratified_cv_results)\n",
    "    i = i + 3\n",
    "    \n",
    "j=0.1\n",
    "while j < 1:\n",
    "    print(j)\n",
    "    svc_model = SVC(C=j, kernel='linear')\n",
    "\n",
    "    stratified_cv_results = cross_validate(svc_model, X, y, cv=StratifiedKFold(n_splits = 3, shuffle=True, random_state = int(aNumber[4:8])), n_jobs=-1, scoring=('precision', 'recall', 'f1'), return_train_score=False)\n",
    "    print(stratified_cv_results)\n",
    "    j = j + 0.3\n"
   ]
  },
  {
   "cell_type": "code",
   "execution_count": null,
   "metadata": {},
   "outputs": [],
   "source": []
  }
 ],
 "metadata": {
  "kernelspec": {
   "display_name": "Python 3",
   "language": "python",
   "name": "python3"
  },
  "language_info": {
   "codemirror_mode": {
    "name": "ipython",
    "version": 3
   },
   "file_extension": ".py",
   "mimetype": "text/x-python",
   "name": "python",
   "nbconvert_exporter": "python",
   "pygments_lexer": "ipython3",
   "version": "3.6.5"
  }
 },
 "nbformat": 4,
 "nbformat_minor": 2
}
