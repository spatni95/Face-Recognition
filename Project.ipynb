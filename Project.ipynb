{
 "cells": [
  {
   "cell_type": "code",
   "execution_count": 53,
   "metadata": {},
   "outputs": [],
   "source": [
    "import numpy as np\n",
    "import pandas as pd\n",
    "from sklearn.decomposition import PCA\n",
    "from sklearn.neighbors import KNeighborsClassifier\n",
    "from sklearn.model_selection import cross_validate\n",
    "from sklearn.model_selection import StratifiedKFold\n",
    "from sklearn.svm import SVC\n",
    "\n",
    "aNumber = \"20428510\"\n",
    "\n",
    "data = pd.read_csv(\"X.csv\", sep = ' ')\n",
    "X = data.values\n",
    "y_data = pd.read_csv(\"y_williams_vs_others.csv\")\n",
    "y = y_data.values.ravel()"
   ]
  },
  {
   "cell_type": "code",
   "execution_count": 55,
   "metadata": {},
   "outputs": [
    {
     "name": "stdout",
     "output_type": "stream",
     "text": [
      "1\n",
      "{'fit_time': array([16.43120909, 16.17606378, 15.54928446]), 'score_time': array([16.89766765, 16.60855293, 15.7585299 ]), 'test_precision': array([0.75, 0.8 , 0.8 ]), 'test_recall': array([0.5       , 0.47058824, 0.23529412]), 'test_f1': array([0.6       , 0.59259259, 0.36363636])}\n"
     ]
    }
   ],
   "source": [
    "values = [1]\n",
    "for i in values:\n",
    "    print(i)\n",
    "    pca = PCA(n_components=i)\n",
    "    X_new = pca.fit_transform(X)\n",
    "\n",
    "    svc_model = SVC(C=0.1, kernel='linear', class_weight='balanced')\n",
    "\n",
    "    stratified_cv_results = cross_validate(svc_model, X, y, cv=StratifiedKFold(n_splits = 3, shuffle=True, random_state = int(aNumber[4:8])), n_jobs=-1, scoring=('precision', 'recall', 'f1'), return_train_score=False)\n",
    "    print(stratified_cv_results)"
   ]
  },
  {
   "cell_type": "code",
   "execution_count": 5,
   "metadata": {},
   "outputs": [
    {
     "name": "stdout",
     "output_type": "stream",
     "text": [
      "{'fit_time': array([1.71186757, 1.69287229, 1.66630912]), 'score_time': array([342.31282544, 345.03287697, 345.35803318]), 'test_precision': array([0.0880829 , 0.14935065, 0.12562814]), 'test_recall': array([0.0960452 , 0.1299435 , 0.14204545]), 'test_f1': array([0.09189189, 0.13897281, 0.13333333])}\n"
     ]
    }
   ],
   "source": [
    "    knn_model = KNeighborsClassifier(n_neighbors=1)\n",
    "\n",
    "    stratified_cv_results = cross_validate(knn_model, X_new, y, cv=StratifiedKFold(n_splits = 3, shuffle=True, random_state = int(aNumber[4:8])), n_jobs=-1, scoring=('precision', 'recall', 'f1'), return_train_score=False)\n",
    "    print(stratified_cv_results)"
   ]
  },
  {
   "cell_type": "code",
   "execution_count": null,
   "metadata": {},
   "outputs": [],
   "source": [
    "\"\"\"i=1\n",
    "while i < 11:\n",
    "    print(i)\n",
    "    svc_model = SVC(C=i, kernel='sigmoid', class_weight='balanced')\n",
    "\n",
    "    stratified_cv_results = cross_validate(svc_model, X, y, cv=StratifiedKFold(n_splits = 3, shuffle=True, random_state = int(aNumber[4:8])), n_jobs=-1, scoring=('precision', 'recall', 'f1'), return_train_score=False)\n",
    "    print(stratified_cv_results)\n",
    "    i = i + 9\n",
    "\n",
    "j=0.1\n",
    "while j < 1:\n",
    "    print(j)\n",
    "    svc_model = SVC(C=j, kernel='sigmoid', class_weight='balanced')\n",
    "\n",
    "    stratified_cv_results = cross_validate(svc_model, X, y, cv=StratifiedKFold(n_splits = 3, shuffle=True, random_state = int(aNumber[4:8])), n_jobs=-1, scoring=('precision', 'recall', 'f1'), return_train_score=False)\n",
    "    print(stratified_cv_results)\n",
    "    j = j + 0.9\"\"\""
   ]
  },
  {
   "cell_type": "code",
   "execution_count": null,
   "metadata": {},
   "outputs": [],
   "source": []
  }
 ],
 "metadata": {
  "kernelspec": {
   "display_name": "Python 3",
   "language": "python",
   "name": "python3"
  },
  "language_info": {
   "codemirror_mode": {
    "name": "ipython",
    "version": 3
   },
   "file_extension": ".py",
   "mimetype": "text/x-python",
   "name": "python",
   "nbconvert_exporter": "python",
   "pygments_lexer": "ipython3",
   "version": "3.6.5"
  }
 },
 "nbformat": 4,
 "nbformat_minor": 2
}
